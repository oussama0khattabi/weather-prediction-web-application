{
  "cells": [
    {
      "cell_type": "markdown",
      "metadata": {
        "id": "xRWorwxt8EZA"
      },
      "source": [
        "PREPROCESSING THE WEATHER DATA"
      ]
    },
    {
      "cell_type": "code",
      "execution_count": null,
      "metadata": {
        "id": "Uo5nnlje0sa1"
      },
      "outputs": [],
      "source": [
        "import pandas as pd\n",
        "import numpy as np\n",
        "import seaborn as sns\n",
        "import matplotlib.pyplot as plt"
      ]
    },
    {
      "cell_type": "code",
      "execution_count": null,
      "metadata": {
        "id": "Pr01OIot0_qw"
      },
      "outputs": [],
      "source": [
        "weather= pd.read_csv('export-rabat0.csv', header=3, index_col=\"DATE\")\n",
        "weather.head()"
      ]
    },
    {
      "cell_type": "code",
      "source": [
        "# Calculate the correlation matrix\n",
        "correlation_matrix = weather.corr()\n",
        "\n",
        "correlation_threshold = 0.5\n",
        "\n",
        "important_features = correlation_matrix[abs(correlation_matrix['MAX_TEMPERATURE_C']) > correlation_threshold]['MAX_TEMPERATURE_C'].index.tolist()\n",
        "\n",
        "plt.figure(figsize=(10, 10))\n",
        "\n",
        "sns.heatmap(correlation_matrix, annot=True, cmap='coolwarm', fmt=\".2f\", linewidths=.5, annot_kws={\"size\": 8})\n",
        "\n"
      ],
      "metadata": {
        "id": "u9Aaw1g-XtBO"
      },
      "execution_count": null,
      "outputs": []
    },
    {
      "cell_type": "code",
      "source": [
        "print(\"Important Features:\", important_features)"
      ],
      "metadata": {
        "id": "qS6EykmFZxTN",
        "colab": {
          "base_uri": "https://localhost:8080/"
        },
        "outputId": "22300ac9-9f23-45af-84f1-6543f66b38bb"
      },
      "execution_count": null,
      "outputs": [
        {
          "output_type": "stream",
          "name": "stdout",
          "text": [
            "Important Features: ['MAX_TEMPERATURE_C', 'MIN_TEMPERATURE_C', 'TEMPERATURE_MORNING_C', 'TEMPERATURE_NOON_C', 'TEMPERATURE_EVENING_C', 'HEATINDEX_MAX_C', 'DEWPOINT_MAX_C', 'WINDTEMP_MAX_C', 'UV_INDEX', 'SUNHOUR']\n"
          ]
        }
      ]
    },
    {
      "cell_type": "code",
      "execution_count": null,
      "metadata": {
        "id": "lCNyTyZ_1bsR"
      },
      "outputs": [],
      "source": [
        "weather.apply(pd.isnull).sum()/weather.shape[0]"
      ]
    },
    {
      "cell_type": "code",
      "execution_count": null,
      "metadata": {
        "id": "K7lhg2Yh35tX"
      },
      "outputs": [],
      "source": [
        "core_weather = weather[[\"MAX_TEMPERATURE_C\",\"MIN_TEMPERATURE_C\",\"TEMPERATURE_MORNING_C\",\"TEMPERATURE_NOON_C\",\"TEMPERATURE_EVENING_C\",\"HEATINDEX_MAX_C\",\"DEWPOINT_MAX_C\",\"WINDTEMP_MAX_C\",\"UV_INDEX\",\"SUNHOUR\"]].copy()\n",
        "core_weather"
      ]
    },
    {
      "cell_type": "code",
      "execution_count": null,
      "metadata": {
        "id": "p2Hl1ZNv5SxC"
      },
      "outputs": [],
      "source": [
        "core_weather.columns = [\"temp_max\",\"temp_min\",\"morning_temp\",\"noon_temp\",\"evening_temp\",\"heat_index_max\",\"dew_point_max\",\"wind_temp_max\",\"uv_index\",\"sunhour\"]\n",
        "core_weather.columns"
      ]
    },
    {
      "cell_type": "code",
      "execution_count": null,
      "metadata": {
        "id": "WSDCacKA5ncJ"
      },
      "outputs": [],
      "source": [
        "core_weather.apply(pd.isnull).sum()/core_weather.shape[0] #to know if there are any missing values"
      ]
    },
    {
      "cell_type": "code",
      "execution_count": null,
      "metadata": {
        "id": "e66Wsyx-7Egh"
      },
      "outputs": [],
      "source": [
        "core_weather.index = pd.to_datetime(core_weather.index)"
      ]
    },
    {
      "cell_type": "code",
      "execution_count": null,
      "metadata": {
        "id": "bxu3PM7E7iOh"
      },
      "outputs": [],
      "source": [
        "core_weather.index"
      ]
    },
    {
      "cell_type": "code",
      "execution_count": null,
      "metadata": {
        "id": "OIAKwbOY7oVu"
      },
      "outputs": [],
      "source": [
        "core_weather.apply(lambda x: (x==9999).sum())"
      ]
    },
    {
      "cell_type": "code",
      "source": [
        "# Assuming your original DataFrame is named core_weather\n",
        "shuffled_core_weather = core_weather.sample(frac=1, random_state=42)\n",
        "\n",
        "# Display the first few rows of the shuffled DataFrame\n",
        "print(shuffled_core_weather.head())"
      ],
      "metadata": {
        "id": "EOrKUVwWiJOl"
      },
      "execution_count": null,
      "outputs": []
    },
    {
      "cell_type": "markdown",
      "metadata": {
        "id": "K5V9JjEK8Jq4"
      },
      "source": [
        "ANALYSING THE WEATHER DATA"
      ]
    },
    {
      "cell_type": "code",
      "execution_count": null,
      "metadata": {
        "id": "3ksHNkEV78pR"
      },
      "outputs": [],
      "source": [
        "shuffled_core_weather[[\"temp_max\",\"temp_min\"]].plot()"
      ]
    },
    {
      "cell_type": "markdown",
      "metadata": {
        "id": "lrXdv6qm9lss"
      },
      "source": [
        "TRAINING THE ML MODEL"
      ]
    },
    {
      "cell_type": "code",
      "execution_count": null,
      "metadata": {
        "id": "hE3qDRPv9LrO"
      },
      "outputs": [],
      "source": [
        "shuffled_core_weather[\"target\"] = shuffled_core_weather.shift(-1)[\"temp_max\"]"
      ]
    },
    {
      "cell_type": "code",
      "source": [
        "shuffled_core_weather[[\"temp_max\", \"target\"]]"
      ],
      "metadata": {
        "id": "qW5Gg8zA1O_S"
      },
      "execution_count": null,
      "outputs": []
    },
    {
      "cell_type": "code",
      "source": [
        "shuffled_core_weather.describe().T"
      ],
      "metadata": {
        "colab": {
          "base_uri": "https://localhost:8080/",
          "height": 394
        },
        "id": "P9rlJgqSiCUQ",
        "outputId": "6c9d4a98-315d-4800-bcb4-8382cb599802"
      },
      "execution_count": null,
      "outputs": [
        {
          "output_type": "execute_result",
          "data": {
            "text/plain": [
              "                 count       mean       std   min   25%   50%   75%   max\n",
              "temp_max        5416.0  22.945532  5.035808  10.0  19.0  23.0  27.0  43.0\n",
              "temp_min        5416.0  16.574040  4.413952   3.0  13.0  17.0  20.0  30.0\n",
              "morning_temp    5416.0  16.588442  4.409501   3.0  13.0  17.0  20.0  30.0\n",
              "noon_temp       5416.0  22.646418  5.160899  10.0  18.0  22.0  26.0  43.0\n",
              "evening_temp    5416.0  20.021787  4.740689   8.0  16.0  20.0  24.0  37.0\n",
              "heat_index_max  5416.0  23.777880  5.495029  10.0  19.0  25.0  27.0  44.0\n",
              "dew_point_max   5416.0  14.944793  3.920128   0.0  12.0  15.0  18.0  25.0\n",
              "wind_temp_max   5416.0  16.261078  4.834373   1.0  12.0  17.0  20.0  30.0\n",
              "uv_index        5416.0   5.348966  1.121473   2.0   5.0   5.0   6.0   8.0\n",
              "sunhour         5416.0  10.681518  1.397848   5.0  10.1  11.6  11.6  13.7\n",
              "target          5415.0  22.946630  5.036578  10.0  19.0  23.0  27.0  43.0"
            ],
            "text/html": [
              "\n",
              "  <div id=\"df-afcda993-f5a5-4c9d-95e2-e7a27442df5d\" class=\"colab-df-container\">\n",
              "    <div>\n",
              "<style scoped>\n",
              "    .dataframe tbody tr th:only-of-type {\n",
              "        vertical-align: middle;\n",
              "    }\n",
              "\n",
              "    .dataframe tbody tr th {\n",
              "        vertical-align: top;\n",
              "    }\n",
              "\n",
              "    .dataframe thead th {\n",
              "        text-align: right;\n",
              "    }\n",
              "</style>\n",
              "<table border=\"1\" class=\"dataframe\">\n",
              "  <thead>\n",
              "    <tr style=\"text-align: right;\">\n",
              "      <th></th>\n",
              "      <th>count</th>\n",
              "      <th>mean</th>\n",
              "      <th>std</th>\n",
              "      <th>min</th>\n",
              "      <th>25%</th>\n",
              "      <th>50%</th>\n",
              "      <th>75%</th>\n",
              "      <th>max</th>\n",
              "    </tr>\n",
              "  </thead>\n",
              "  <tbody>\n",
              "    <tr>\n",
              "      <th>temp_max</th>\n",
              "      <td>5416.0</td>\n",
              "      <td>22.945532</td>\n",
              "      <td>5.035808</td>\n",
              "      <td>10.0</td>\n",
              "      <td>19.0</td>\n",
              "      <td>23.0</td>\n",
              "      <td>27.0</td>\n",
              "      <td>43.0</td>\n",
              "    </tr>\n",
              "    <tr>\n",
              "      <th>temp_min</th>\n",
              "      <td>5416.0</td>\n",
              "      <td>16.574040</td>\n",
              "      <td>4.413952</td>\n",
              "      <td>3.0</td>\n",
              "      <td>13.0</td>\n",
              "      <td>17.0</td>\n",
              "      <td>20.0</td>\n",
              "      <td>30.0</td>\n",
              "    </tr>\n",
              "    <tr>\n",
              "      <th>morning_temp</th>\n",
              "      <td>5416.0</td>\n",
              "      <td>16.588442</td>\n",
              "      <td>4.409501</td>\n",
              "      <td>3.0</td>\n",
              "      <td>13.0</td>\n",
              "      <td>17.0</td>\n",
              "      <td>20.0</td>\n",
              "      <td>30.0</td>\n",
              "    </tr>\n",
              "    <tr>\n",
              "      <th>noon_temp</th>\n",
              "      <td>5416.0</td>\n",
              "      <td>22.646418</td>\n",
              "      <td>5.160899</td>\n",
              "      <td>10.0</td>\n",
              "      <td>18.0</td>\n",
              "      <td>22.0</td>\n",
              "      <td>26.0</td>\n",
              "      <td>43.0</td>\n",
              "    </tr>\n",
              "    <tr>\n",
              "      <th>evening_temp</th>\n",
              "      <td>5416.0</td>\n",
              "      <td>20.021787</td>\n",
              "      <td>4.740689</td>\n",
              "      <td>8.0</td>\n",
              "      <td>16.0</td>\n",
              "      <td>20.0</td>\n",
              "      <td>24.0</td>\n",
              "      <td>37.0</td>\n",
              "    </tr>\n",
              "    <tr>\n",
              "      <th>heat_index_max</th>\n",
              "      <td>5416.0</td>\n",
              "      <td>23.777880</td>\n",
              "      <td>5.495029</td>\n",
              "      <td>10.0</td>\n",
              "      <td>19.0</td>\n",
              "      <td>25.0</td>\n",
              "      <td>27.0</td>\n",
              "      <td>44.0</td>\n",
              "    </tr>\n",
              "    <tr>\n",
              "      <th>dew_point_max</th>\n",
              "      <td>5416.0</td>\n",
              "      <td>14.944793</td>\n",
              "      <td>3.920128</td>\n",
              "      <td>0.0</td>\n",
              "      <td>12.0</td>\n",
              "      <td>15.0</td>\n",
              "      <td>18.0</td>\n",
              "      <td>25.0</td>\n",
              "    </tr>\n",
              "    <tr>\n",
              "      <th>wind_temp_max</th>\n",
              "      <td>5416.0</td>\n",
              "      <td>16.261078</td>\n",
              "      <td>4.834373</td>\n",
              "      <td>1.0</td>\n",
              "      <td>12.0</td>\n",
              "      <td>17.0</td>\n",
              "      <td>20.0</td>\n",
              "      <td>30.0</td>\n",
              "    </tr>\n",
              "    <tr>\n",
              "      <th>uv_index</th>\n",
              "      <td>5416.0</td>\n",
              "      <td>5.348966</td>\n",
              "      <td>1.121473</td>\n",
              "      <td>2.0</td>\n",
              "      <td>5.0</td>\n",
              "      <td>5.0</td>\n",
              "      <td>6.0</td>\n",
              "      <td>8.0</td>\n",
              "    </tr>\n",
              "    <tr>\n",
              "      <th>sunhour</th>\n",
              "      <td>5416.0</td>\n",
              "      <td>10.681518</td>\n",
              "      <td>1.397848</td>\n",
              "      <td>5.0</td>\n",
              "      <td>10.1</td>\n",
              "      <td>11.6</td>\n",
              "      <td>11.6</td>\n",
              "      <td>13.7</td>\n",
              "    </tr>\n",
              "    <tr>\n",
              "      <th>target</th>\n",
              "      <td>5415.0</td>\n",
              "      <td>22.946630</td>\n",
              "      <td>5.036578</td>\n",
              "      <td>10.0</td>\n",
              "      <td>19.0</td>\n",
              "      <td>23.0</td>\n",
              "      <td>27.0</td>\n",
              "      <td>43.0</td>\n",
              "    </tr>\n",
              "  </tbody>\n",
              "</table>\n",
              "</div>\n",
              "    <div class=\"colab-df-buttons\">\n",
              "\n",
              "  <div class=\"colab-df-container\">\n",
              "    <button class=\"colab-df-convert\" onclick=\"convertToInteractive('df-afcda993-f5a5-4c9d-95e2-e7a27442df5d')\"\n",
              "            title=\"Convert this dataframe to an interactive table.\"\n",
              "            style=\"display:none;\">\n",
              "\n",
              "  <svg xmlns=\"http://www.w3.org/2000/svg\" height=\"24px\" viewBox=\"0 -960 960 960\">\n",
              "    <path d=\"M120-120v-720h720v720H120Zm60-500h600v-160H180v160Zm220 220h160v-160H400v160Zm0 220h160v-160H400v160ZM180-400h160v-160H180v160Zm440 0h160v-160H620v160ZM180-180h160v-160H180v160Zm440 0h160v-160H620v160Z\"/>\n",
              "  </svg>\n",
              "    </button>\n",
              "\n",
              "  <style>\n",
              "    .colab-df-container {\n",
              "      display:flex;\n",
              "      gap: 12px;\n",
              "    }\n",
              "\n",
              "    .colab-df-convert {\n",
              "      background-color: #E8F0FE;\n",
              "      border: none;\n",
              "      border-radius: 50%;\n",
              "      cursor: pointer;\n",
              "      display: none;\n",
              "      fill: #1967D2;\n",
              "      height: 32px;\n",
              "      padding: 0 0 0 0;\n",
              "      width: 32px;\n",
              "    }\n",
              "\n",
              "    .colab-df-convert:hover {\n",
              "      background-color: #E2EBFA;\n",
              "      box-shadow: 0px 1px 2px rgba(60, 64, 67, 0.3), 0px 1px 3px 1px rgba(60, 64, 67, 0.15);\n",
              "      fill: #174EA6;\n",
              "    }\n",
              "\n",
              "    .colab-df-buttons div {\n",
              "      margin-bottom: 4px;\n",
              "    }\n",
              "\n",
              "    [theme=dark] .colab-df-convert {\n",
              "      background-color: #3B4455;\n",
              "      fill: #D2E3FC;\n",
              "    }\n",
              "\n",
              "    [theme=dark] .colab-df-convert:hover {\n",
              "      background-color: #434B5C;\n",
              "      box-shadow: 0px 1px 3px 1px rgba(0, 0, 0, 0.15);\n",
              "      filter: drop-shadow(0px 1px 2px rgba(0, 0, 0, 0.3));\n",
              "      fill: #FFFFFF;\n",
              "    }\n",
              "  </style>\n",
              "\n",
              "    <script>\n",
              "      const buttonEl =\n",
              "        document.querySelector('#df-afcda993-f5a5-4c9d-95e2-e7a27442df5d button.colab-df-convert');\n",
              "      buttonEl.style.display =\n",
              "        google.colab.kernel.accessAllowed ? 'block' : 'none';\n",
              "\n",
              "      async function convertToInteractive(key) {\n",
              "        const element = document.querySelector('#df-afcda993-f5a5-4c9d-95e2-e7a27442df5d');\n",
              "        const dataTable =\n",
              "          await google.colab.kernel.invokeFunction('convertToInteractive',\n",
              "                                                    [key], {});\n",
              "        if (!dataTable) return;\n",
              "\n",
              "        const docLinkHtml = 'Like what you see? Visit the ' +\n",
              "          '<a target=\"_blank\" href=https://colab.research.google.com/notebooks/data_table.ipynb>data table notebook</a>'\n",
              "          + ' to learn more about interactive tables.';\n",
              "        element.innerHTML = '';\n",
              "        dataTable['output_type'] = 'display_data';\n",
              "        await google.colab.output.renderOutput(dataTable, element);\n",
              "        const docLink = document.createElement('div');\n",
              "        docLink.innerHTML = docLinkHtml;\n",
              "        element.appendChild(docLink);\n",
              "      }\n",
              "    </script>\n",
              "  </div>\n",
              "\n",
              "\n",
              "<div id=\"df-564fc6e8-99ac-452e-b6f7-f1a0bff7b72f\">\n",
              "  <button class=\"colab-df-quickchart\" onclick=\"quickchart('df-564fc6e8-99ac-452e-b6f7-f1a0bff7b72f')\"\n",
              "            title=\"Suggest charts\"\n",
              "            style=\"display:none;\">\n",
              "\n",
              "<svg xmlns=\"http://www.w3.org/2000/svg\" height=\"24px\"viewBox=\"0 0 24 24\"\n",
              "     width=\"24px\">\n",
              "    <g>\n",
              "        <path d=\"M19 3H5c-1.1 0-2 .9-2 2v14c0 1.1.9 2 2 2h14c1.1 0 2-.9 2-2V5c0-1.1-.9-2-2-2zM9 17H7v-7h2v7zm4 0h-2V7h2v10zm4 0h-2v-4h2v4z\"/>\n",
              "    </g>\n",
              "</svg>\n",
              "  </button>\n",
              "\n",
              "<style>\n",
              "  .colab-df-quickchart {\n",
              "      --bg-color: #E8F0FE;\n",
              "      --fill-color: #1967D2;\n",
              "      --hover-bg-color: #E2EBFA;\n",
              "      --hover-fill-color: #174EA6;\n",
              "      --disabled-fill-color: #AAA;\n",
              "      --disabled-bg-color: #DDD;\n",
              "  }\n",
              "\n",
              "  [theme=dark] .colab-df-quickchart {\n",
              "      --bg-color: #3B4455;\n",
              "      --fill-color: #D2E3FC;\n",
              "      --hover-bg-color: #434B5C;\n",
              "      --hover-fill-color: #FFFFFF;\n",
              "      --disabled-bg-color: #3B4455;\n",
              "      --disabled-fill-color: #666;\n",
              "  }\n",
              "\n",
              "  .colab-df-quickchart {\n",
              "    background-color: var(--bg-color);\n",
              "    border: none;\n",
              "    border-radius: 50%;\n",
              "    cursor: pointer;\n",
              "    display: none;\n",
              "    fill: var(--fill-color);\n",
              "    height: 32px;\n",
              "    padding: 0;\n",
              "    width: 32px;\n",
              "  }\n",
              "\n",
              "  .colab-df-quickchart:hover {\n",
              "    background-color: var(--hover-bg-color);\n",
              "    box-shadow: 0 1px 2px rgba(60, 64, 67, 0.3), 0 1px 3px 1px rgba(60, 64, 67, 0.15);\n",
              "    fill: var(--button-hover-fill-color);\n",
              "  }\n",
              "\n",
              "  .colab-df-quickchart-complete:disabled,\n",
              "  .colab-df-quickchart-complete:disabled:hover {\n",
              "    background-color: var(--disabled-bg-color);\n",
              "    fill: var(--disabled-fill-color);\n",
              "    box-shadow: none;\n",
              "  }\n",
              "\n",
              "  .colab-df-spinner {\n",
              "    border: 2px solid var(--fill-color);\n",
              "    border-color: transparent;\n",
              "    border-bottom-color: var(--fill-color);\n",
              "    animation:\n",
              "      spin 1s steps(1) infinite;\n",
              "  }\n",
              "\n",
              "  @keyframes spin {\n",
              "    0% {\n",
              "      border-color: transparent;\n",
              "      border-bottom-color: var(--fill-color);\n",
              "      border-left-color: var(--fill-color);\n",
              "    }\n",
              "    20% {\n",
              "      border-color: transparent;\n",
              "      border-left-color: var(--fill-color);\n",
              "      border-top-color: var(--fill-color);\n",
              "    }\n",
              "    30% {\n",
              "      border-color: transparent;\n",
              "      border-left-color: var(--fill-color);\n",
              "      border-top-color: var(--fill-color);\n",
              "      border-right-color: var(--fill-color);\n",
              "    }\n",
              "    40% {\n",
              "      border-color: transparent;\n",
              "      border-right-color: var(--fill-color);\n",
              "      border-top-color: var(--fill-color);\n",
              "    }\n",
              "    60% {\n",
              "      border-color: transparent;\n",
              "      border-right-color: var(--fill-color);\n",
              "    }\n",
              "    80% {\n",
              "      border-color: transparent;\n",
              "      border-right-color: var(--fill-color);\n",
              "      border-bottom-color: var(--fill-color);\n",
              "    }\n",
              "    90% {\n",
              "      border-color: transparent;\n",
              "      border-bottom-color: var(--fill-color);\n",
              "    }\n",
              "  }\n",
              "</style>\n",
              "\n",
              "  <script>\n",
              "    async function quickchart(key) {\n",
              "      const quickchartButtonEl =\n",
              "        document.querySelector('#' + key + ' button');\n",
              "      quickchartButtonEl.disabled = true;  // To prevent multiple clicks.\n",
              "      quickchartButtonEl.classList.add('colab-df-spinner');\n",
              "      try {\n",
              "        const charts = await google.colab.kernel.invokeFunction(\n",
              "            'suggestCharts', [key], {});\n",
              "      } catch (error) {\n",
              "        console.error('Error during call to suggestCharts:', error);\n",
              "      }\n",
              "      quickchartButtonEl.classList.remove('colab-df-spinner');\n",
              "      quickchartButtonEl.classList.add('colab-df-quickchart-complete');\n",
              "    }\n",
              "    (() => {\n",
              "      let quickchartButtonEl =\n",
              "        document.querySelector('#df-564fc6e8-99ac-452e-b6f7-f1a0bff7b72f button');\n",
              "      quickchartButtonEl.style.display =\n",
              "        google.colab.kernel.accessAllowed ? 'block' : 'none';\n",
              "    })();\n",
              "  </script>\n",
              "</div>\n",
              "\n",
              "    </div>\n",
              "  </div>\n"
            ]
          },
          "metadata": {},
          "execution_count": 43
        }
      ]
    },
    {
      "cell_type": "code",
      "source": [
        "shuffled_core_weather = shuffled_core_weather.iloc[:-1,:].copy() #removing the last line with the value NaN in target\n",
        "shuffled_core_weather"
      ],
      "metadata": {
        "id": "d47kWXWue5mr"
      },
      "execution_count": null,
      "outputs": []
    },
    {
      "cell_type": "code",
      "source": [
        "from sklearn.linear_model import Ridge\n",
        "from sklearn.model_selection import train_test_split\n",
        "\n",
        "reg = Ridge(alpha=.1)"
      ],
      "metadata": {
        "id": "72RC9ANrjKuw"
      },
      "execution_count": null,
      "outputs": []
    },
    {
      "cell_type": "code",
      "source": [
        "num_test = 0.20\n",
        "X = shuffled_core_weather.drop(columns=['temp_max'])  # Features (excluding the target variable)\n",
        "y = shuffled_core_weather['temp_max']\n",
        "\n",
        "X_train, X_test, y_train, y_test = train_test_split(X, y, test_size= num_test, random_state = 23)\n",
        "\n",
        "# Display the shapes of the resulting sets\n",
        "print(\"X_train shape:\", X_train.shape)\n",
        "print(\"X_test shape:\", X_test.shape)\n",
        "print(\"y_train shape:\", y_train.shape)\n",
        "print(\"y_test shape:\", y_test.shape)"
      ],
      "metadata": {
        "id": "RWLRKxcffd8D"
      },
      "execution_count": null,
      "outputs": []
    },
    {
      "cell_type": "code",
      "source": [
        "X_train"
      ],
      "metadata": {
        "id": "oNRP8PQXxb5v"
      },
      "execution_count": null,
      "outputs": []
    },
    {
      "cell_type": "code",
      "source": [
        "predictors = [\"temp_min\", \"morning_temp\", \"noon_temp\", \"evening_temp\", \"heat_index_max\", \"dew_point_max\", \"wind_temp_max\", \"uv_index\", \"sunhour\"]\n",
        "\n",
        "# Assuming reg is your regression model\n",
        "reg.fit(X_train[predictors], y_train)"
      ],
      "metadata": {
        "colab": {
          "base_uri": "https://localhost:8080/",
          "height": 75
        },
        "id": "dGLVgwK1heg1",
        "outputId": "c2e7afb8-4e51-434b-ae29-f40dd60840e0"
      },
      "execution_count": null,
      "outputs": [
        {
          "output_type": "execute_result",
          "data": {
            "text/plain": [
              "Ridge(alpha=0.1)"
            ],
            "text/html": [
              "<style>#sk-container-id-2 {color: black;background-color: white;}#sk-container-id-2 pre{padding: 0;}#sk-container-id-2 div.sk-toggleable {background-color: white;}#sk-container-id-2 label.sk-toggleable__label {cursor: pointer;display: block;width: 100%;margin-bottom: 0;padding: 0.3em;box-sizing: border-box;text-align: center;}#sk-container-id-2 label.sk-toggleable__label-arrow:before {content: \"▸\";float: left;margin-right: 0.25em;color: #696969;}#sk-container-id-2 label.sk-toggleable__label-arrow:hover:before {color: black;}#sk-container-id-2 div.sk-estimator:hover label.sk-toggleable__label-arrow:before {color: black;}#sk-container-id-2 div.sk-toggleable__content {max-height: 0;max-width: 0;overflow: hidden;text-align: left;background-color: #f0f8ff;}#sk-container-id-2 div.sk-toggleable__content pre {margin: 0.2em;color: black;border-radius: 0.25em;background-color: #f0f8ff;}#sk-container-id-2 input.sk-toggleable__control:checked~div.sk-toggleable__content {max-height: 200px;max-width: 100%;overflow: auto;}#sk-container-id-2 input.sk-toggleable__control:checked~label.sk-toggleable__label-arrow:before {content: \"▾\";}#sk-container-id-2 div.sk-estimator input.sk-toggleable__control:checked~label.sk-toggleable__label {background-color: #d4ebff;}#sk-container-id-2 div.sk-label input.sk-toggleable__control:checked~label.sk-toggleable__label {background-color: #d4ebff;}#sk-container-id-2 input.sk-hidden--visually {border: 0;clip: rect(1px 1px 1px 1px);clip: rect(1px, 1px, 1px, 1px);height: 1px;margin: -1px;overflow: hidden;padding: 0;position: absolute;width: 1px;}#sk-container-id-2 div.sk-estimator {font-family: monospace;background-color: #f0f8ff;border: 1px dotted black;border-radius: 0.25em;box-sizing: border-box;margin-bottom: 0.5em;}#sk-container-id-2 div.sk-estimator:hover {background-color: #d4ebff;}#sk-container-id-2 div.sk-parallel-item::after {content: \"\";width: 100%;border-bottom: 1px solid gray;flex-grow: 1;}#sk-container-id-2 div.sk-label:hover label.sk-toggleable__label {background-color: #d4ebff;}#sk-container-id-2 div.sk-serial::before {content: \"\";position: absolute;border-left: 1px solid gray;box-sizing: border-box;top: 0;bottom: 0;left: 50%;z-index: 0;}#sk-container-id-2 div.sk-serial {display: flex;flex-direction: column;align-items: center;background-color: white;padding-right: 0.2em;padding-left: 0.2em;position: relative;}#sk-container-id-2 div.sk-item {position: relative;z-index: 1;}#sk-container-id-2 div.sk-parallel {display: flex;align-items: stretch;justify-content: center;background-color: white;position: relative;}#sk-container-id-2 div.sk-item::before, #sk-container-id-2 div.sk-parallel-item::before {content: \"\";position: absolute;border-left: 1px solid gray;box-sizing: border-box;top: 0;bottom: 0;left: 50%;z-index: -1;}#sk-container-id-2 div.sk-parallel-item {display: flex;flex-direction: column;z-index: 1;position: relative;background-color: white;}#sk-container-id-2 div.sk-parallel-item:first-child::after {align-self: flex-end;width: 50%;}#sk-container-id-2 div.sk-parallel-item:last-child::after {align-self: flex-start;width: 50%;}#sk-container-id-2 div.sk-parallel-item:only-child::after {width: 0;}#sk-container-id-2 div.sk-dashed-wrapped {border: 1px dashed gray;margin: 0 0.4em 0.5em 0.4em;box-sizing: border-box;padding-bottom: 0.4em;background-color: white;}#sk-container-id-2 div.sk-label label {font-family: monospace;font-weight: bold;display: inline-block;line-height: 1.2em;}#sk-container-id-2 div.sk-label-container {text-align: center;}#sk-container-id-2 div.sk-container {/* jupyter's `normalize.less` sets `[hidden] { display: none; }` but bootstrap.min.css set `[hidden] { display: none !important; }` so we also need the `!important` here to be able to override the default hidden behavior on the sphinx rendered scikit-learn.org. See: https://github.com/scikit-learn/scikit-learn/issues/21755 */display: inline-block !important;position: relative;}#sk-container-id-2 div.sk-text-repr-fallback {display: none;}</style><div id=\"sk-container-id-2\" class=\"sk-top-container\"><div class=\"sk-text-repr-fallback\"><pre>Ridge(alpha=0.1)</pre><b>In a Jupyter environment, please rerun this cell to show the HTML representation or trust the notebook. <br />On GitHub, the HTML representation is unable to render, please try loading this page with nbviewer.org.</b></div><div class=\"sk-container\" hidden><div class=\"sk-item\"><div class=\"sk-estimator sk-toggleable\"><input class=\"sk-toggleable__control sk-hidden--visually\" id=\"sk-estimator-id-2\" type=\"checkbox\" checked><label for=\"sk-estimator-id-2\" class=\"sk-toggleable__label sk-toggleable__label-arrow\">Ridge</label><div class=\"sk-toggleable__content\"><pre>Ridge(alpha=0.1)</pre></div></div></div></div></div>"
            ]
          },
          "metadata": {},
          "execution_count": 61
        }
      ]
    },
    {
      "cell_type": "code",
      "source": [
        "predictions = reg.predict(X_test[predictors])"
      ],
      "metadata": {
        "id": "KNoSrV0Bke0y"
      },
      "execution_count": null,
      "outputs": []
    },
    {
      "cell_type": "code",
      "source": [
        "from sklearn.metrics import mean_absolute_error\n",
        "mean_absolute_error(X_test[\"target\"], predictions)\n"
      ],
      "metadata": {
        "colab": {
          "base_uri": "https://localhost:8080/"
        },
        "id": "PHlRr4mvk8sc",
        "outputId": "9e3baf27-d037-4e81-b407-04ea7c5a496b"
      },
      "execution_count": null,
      "outputs": [
        {
          "output_type": "execute_result",
          "data": {
            "text/plain": [
              "5.75735381323511"
            ]
          },
          "metadata": {},
          "execution_count": 67
        }
      ]
    },
    {
      "cell_type": "code",
      "source": [
        "combined = pd.concat([X_test[\"target\"], pd.Series(predictions, index =X_test.index)], axis=1)\n",
        "combined.columns = [\"actual\",\"predictions\"]\n",
        "combined"
      ],
      "metadata": {
        "id": "z3ntC4CYmTET"
      },
      "execution_count": null,
      "outputs": []
    },
    {
      "cell_type": "code",
      "source": [
        "combined.plot()"
      ],
      "metadata": {
        "id": "k0O1gPgZmwl1"
      },
      "execution_count": null,
      "outputs": []
    },
    {
      "cell_type": "code",
      "source": [
        "reg.coef_ #to see the impact of each feature on the target"
      ],
      "metadata": {
        "id": "pBS1B1G4m-Qu"
      },
      "execution_count": null,
      "outputs": []
    },
    {
      "cell_type": "code",
      "source": [
        "def create_predictions(predictors, shuffled_core_weather, reg):\n",
        "  X_train, X_test, y_train, y_test = train_test_split(X, y, test_size= num_test, random_state = 23)\n",
        "  reg.fit(X_train[predictors], y_train)\n",
        "  predictions = reg.predict(X_test[predictors])\n",
        "  error = mean_absolute_error(X_test[\"target\"], predictions)\n",
        "  combined = pd.concat([X_test[\"target\"], pd.Series(predictions, index =X_test.index)], axis=1)\n",
        "  combined.columns = [\"actual\",\"predictions\"]\n",
        "  return error, combined"
      ],
      "metadata": {
        "id": "rpALefGDjt3_"
      },
      "execution_count": null,
      "outputs": []
    },
    {
      "cell_type": "code",
      "source": [
        "combined[\"diff\"] = combined[\"actual\"]-combined[\"predictions\"]\n",
        "combined.sort_values(\"diff\", ascending=False).head()"
      ],
      "metadata": {
        "id": "CuKzZBZTo0Xv"
      },
      "execution_count": null,
      "outputs": []
    },
    {
      "cell_type": "code",
      "source": [
        "from datetime import datetime, timedelta"
      ],
      "metadata": {
        "id": "6jKJ-_2x-Quy"
      },
      "execution_count": null,
      "outputs": []
    },
    {
      "cell_type": "code",
      "source": [
        "user_input_date = input(\"Enter the date (YYYY-MM-DD): \")\n",
        "user_input_date = datetime.strptime(user_input_date, '%Y-%m-%d')\n",
        "user_input_features = []\n",
        "for feature in predictors:\n",
        "    value = float(input(f\"Enter the value for {feature}: \"))\n",
        "    user_input_features.append(value)\n",
        "\n",
        "user_input_df = pd.DataFrame([user_input_features], columns=predictors)\n",
        "\n",
        "user_input_date_plus_one = user_input_date + timedelta(days=1)\n",
        "predicted_temperature = reg.predict(user_input_df)\n",
        "\n",
        "print(f\"For the date {user_input_date.strftime('%Y-%m-%d')}, the predicted maximum temperature for the following day ({user_input_date_plus_one.strftime('%Y-%m-%d')}) is: {predicted_temperature[0]:.2f}°C\")\n"
      ],
      "metadata": {
        "id": "YGXlBP42-Bls"
      },
      "execution_count": null,
      "outputs": []
    },
    {
      "cell_type": "code",
      "source": [
        "from sklearn.metrics import r2_score\n",
        "\n",
        "# Assuming 'reg' is your trained Ridge regression model\n",
        "# Assuming 'X_test' and 'y_test' are your test set features and target values\n",
        "\n",
        "# Make predictions on the test set\n",
        "predictions = reg.predict(X_test[predictors])\n",
        "# Calculate R-squared score\n",
        "r2 = r2_score(y_test, predictions)\n",
        "\n",
        "# Print the result\n",
        "print(f\"R-squared Score: {r2:.4f}\")\n"
      ],
      "metadata": {
        "colab": {
          "base_uri": "https://localhost:8080/"
        },
        "id": "4WSGpNnBN2so",
        "outputId": "a62bc44b-97dd-47ff-a1d6-7d20e67d6279"
      },
      "execution_count": null,
      "outputs": [
        {
          "output_type": "stream",
          "name": "stdout",
          "text": [
            "R-squared Score: 0.9898\n"
          ]
        }
      ]
    }
  ],
  "metadata": {
    "colab": {
      "provenance": []
    },
    "kernelspec": {
      "display_name": "Python 3",
      "name": "python3"
    }
  },
  "nbformat": 4,
  "nbformat_minor": 0
}